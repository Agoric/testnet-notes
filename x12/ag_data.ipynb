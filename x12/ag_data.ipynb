{
 "cells": [
  {
   "cell_type": "markdown",
   "id": "89b5769e",
   "metadata": {},
   "source": [
    "## Colophon: Notebook and Module\n",
    "\n",
    "This is both a jupyter notebook and a python module, sync'd using [jupytext][].\n",
    "\n",
    "[jupytext]: https://github.com/mwouts/jupytex"
   ]
  },
  {
   "cell_type": "markdown",
   "id": "b5459972",
   "metadata": {},
   "source": [
    "### OCap Discipline in Python\n",
    "\n",
    "When loaded as a module, \n",
    "in order to support patterns of cooperation without vulnerability,\n",
    "we maintain [OCap Discipline](https://github.com/dckc/awesome-ocap/wiki/DisciplinedPython)\n",
    "by avoiding access to IO and other ambient authority,\n",
    "except when loaded in the [top-level code environment](https://docs.python.org/3/library/__main__.html#what-is-the-top-level-code-environment), which we can test with `__name__ == '__main__'`.\n",
    "Note that jupyter notebooks run in the top-level code environment."
   ]
  },
  {
   "cell_type": "code",
   "execution_count": 1,
   "id": "2cad03d5",
   "metadata": {},
   "outputs": [
    {
     "name": "stderr",
     "output_type": "stream",
     "text": [
      "INFO:__main__:python version: {'python': '3.7.10 | packaged by conda-forge | (default, Feb 19 2021, 16:07:37) \\n[GCC 9.3.0]'}\n"
     ]
    }
   ],
   "source": [
    "import logging\n",
    "\n",
    "log = logging.getLogger(__name__)\n",
    "\n",
    "IO_TESTING = False\n",
    "\n",
    "if __name__ == '__main__':\n",
    "    from sys import version as sys_version, stderr\n",
    "\n",
    "    IO_TESTING = True\n",
    "    logging.basicConfig(level=logging.INFO, stream=stderr)\n",
    "    log.info('python version: %s', dict(\n",
    "        python=sys_version,\n",
    "    ))"
   ]
  },
  {
   "cell_type": "code",
   "execution_count": 2,
   "id": "10f4d7d2",
   "metadata": {},
   "outputs": [],
   "source": [
    "from urllib.request import Request, HTTPError, BaseHandler\n",
    "\n",
    "if IO_TESTING:\n",
    "    # Use leading _ to remind ourselves of ambient authorities\n",
    "    # that should not be available when loaded as a module.\n",
    "    def _build_opener():\n",
    "        from urllib.request import build_opener\n",
    "        return build_opener()\n",
    "\n",
    "    _theWeb = _build_opener()\n",
    "    _theWeb.cache = {}"
   ]
  },
  {
   "cell_type": "markdown",
   "id": "c279ee52",
   "metadata": {},
   "source": [
    "## Cosmos / Tendermint RPC\n",
    "\n",
    "The Agoric blockchain is based on Cosmos-SDK, which uses Tendermint consensus.\n",
    "Each layer has an OpenAPI / Swagger / REST API with interactive explorer style documentation:\n",
    "\n",
    " - [Tendermint RPC](https://docs.tendermint.com/master/rpc/)\n",
    " - [Cosmos RPC](https://v1.cosmos.network/rpc/v0.44.5)\n",
    "\n",
    "\n",
    "### Agoric xnet RPC server\n",
    "\n",
    "The hostname of the RPC server we're exploring is:"
   ]
  },
  {
   "cell_type": "code",
   "execution_count": 3,
   "id": "7bc7c01a",
   "metadata": {},
   "outputs": [],
   "source": [
    "RPC_HOST = 'xnet.rpc.agoric.net'"
   ]
  },
  {
   "cell_type": "markdown",
   "id": "c82da297",
   "metadata": {},
   "source": [
    "But if we try to access it using the python standard library defaults, we are forbidden:"
   ]
  },
  {
   "cell_type": "code",
   "execution_count": 4,
   "id": "72746817",
   "metadata": {},
   "outputs": [
    {
     "name": "stderr",
     "output_type": "stream",
     "text": [
      "ERROR:__main__:HTTP Error 403: Forbidden\n"
     ]
    }
   ],
   "source": [
    "if IO_TESTING:\n",
    "    try:\n",
    "        _theWeb.open(f'https://{RPC_HOST}/status?')\n",
    "    except HTTPError as err:\n",
    "        log.error(err)"
   ]
  },
  {
   "cell_type": "markdown",
   "id": "732c2f95",
   "metadata": {},
   "source": [
    "So let's tell a little bit about who we are and what business we are about using `User-Agent` :"
   ]
  },
  {
   "cell_type": "code",
   "execution_count": 5,
   "id": "a320044e",
   "metadata": {},
   "outputs": [
    {
     "data": {
      "text/plain": [
       "{'headers': {'Accept-Encoding': 'identity',\n",
       "  'Host': 'httpbin.org',\n",
       "  'User-Agent': 'agoric.com test exploration',\n",
       "  'X-Amzn-Trace-Id': 'Root=1-62ff2747-0d3e8e6e2e5ef9a037a9b933'}}"
      ]
     },
     "execution_count": 5,
     "metadata": {},
     "output_type": "execute_result"
    }
   ],
   "source": [
    "import json\n",
    "\n",
    "def ua_req(url, user_agent='agoric.com test exploration'):\n",
    "    return Request(url, headers={'User-Agent': user_agent})\n",
    "\n",
    "def get_json(url, ua):\n",
    "    return json.loads(ua.open(ua_req(url)).read())\n",
    "\n",
    "IO_TESTING and get_json('http://httpbin.org/headers', _theWeb)"
   ]
  },
  {
   "cell_type": "markdown",
   "id": "99a80dd6",
   "metadata": {},
   "source": [
    "Now we can start exploring:"
   ]
  },
  {
   "cell_type": "code",
   "execution_count": 6,
   "id": "4529203b",
   "metadata": {},
   "outputs": [
    {
     "data": {
      "text/plain": [
       "{'jsonrpc': '2.0',\n",
       " 'id': -1,\n",
       " 'result': {'node_info': {'protocol_version': {'p2p': '8',\n",
       "    'block': '11',\n",
       "    'app': '0'},\n",
       "   'id': '61d979eb255e925e0f68790662147e327234aab5',\n",
       "   'listen_addr': 'tcp://0.0.0.0:26656',\n",
       "   'network': 'agoricxnet-13',\n",
       "   'version': '0.34.14',\n",
       "   'channels': '40202122233038606100',\n",
       "   'moniker': 'validator-0',\n",
       "   'other': {'tx_index': 'on', 'rpc_address': 'tcp://0.0.0.0:26657'}},\n",
       "  'sync_info': {'latest_block_hash': '8A24A78238E83E249040148387AB32E317F555AC9AE3EFC47D522B3950E030C9',\n",
       "   'latest_app_hash': '949CA8CB8EE69088C920410C40BCF4890BDA8BF7A63EB082D5F0DCC8A6AB414D',\n",
       "   'latest_block_height': '7338',\n",
       "   'latest_block_time': '2022-08-19T06:01:36.013125837Z',\n",
       "   'earliest_block_hash': 'EDD7A15ACD6CACA49F0ABE4567481EE0C778D1367B6B334215A61583CF7DBFD4',\n",
       "   'earliest_app_hash': 'E3B0C44298FC1C149AFBF4C8996FB92427AE41E4649B934CA495991B7852B855',\n",
       "   'earliest_block_height': '1',\n",
       "   'earliest_block_time': '2022-08-18T18:38:05.02142049Z',\n",
       "   'catching_up': False},\n",
       "  'validator_info': {'address': 'F404B72E91DF0C07289A341FE86987A391CC0C14',\n",
       "   'pub_key': {'type': 'tendermint/PubKeyEd25519',\n",
       "    'value': 'Ji9MgNnRH0atWKr0gZS10Hh87ik/QsAYuHEJdNREZHQ='},\n",
       "   'voting_power': '50'}}}"
      ]
     },
     "execution_count": 6,
     "metadata": {},
     "output_type": "execute_result"
    }
   ],
   "source": [
    "IO_TESTING and get_json(f'https://{RPC_HOST}/status?', _theWeb)"
   ]
  },
  {
   "cell_type": "markdown",
   "id": "a5eb1ce6",
   "metadata": {},
   "source": [
    "### JSON Helper"
   ]
  },
  {
   "cell_type": "markdown",
   "id": "49a9e9e8",
   "metadata": {},
   "source": [
    "Navigating JSON structured in python is a bit tedious using `obj['headers']` syntax.\n",
    "So let's borrow `obj.headers` style from JavaScript."
   ]
  },
  {
   "cell_type": "code",
   "execution_count": 7,
   "id": "cb2fa59b",
   "metadata": {},
   "outputs": [
    {
     "data": {
      "text/plain": [
       "{'Host': 'httpbin.org'}"
      ]
     },
     "execution_count": 7,
     "metadata": {},
     "output_type": "execute_result"
    }
   ],
   "source": [
    "class AttrDict(dict):\n",
    "    def __init__(self, *args, **kwargs):\n",
    "        super(AttrDict, self).__init__(*args, **kwargs)\n",
    "        self.__dict__ = self\n",
    "\n",
    "def json_parse(s):\n",
    "    return json.loads(s, object_hook=AttrDict)\n",
    "\n",
    "def get_json(url, ua):\n",
    "    # ISSUE: cache may get in the way of observing changing data\n",
    "    cache = hasattr(ua, 'cache') and ua.cache\n",
    "    if cache is not None and url in ua.cache:\n",
    "        return ua.cache[url]\n",
    "    # log.info('cache miss %s %s', not not cache, url)\n",
    "    obj = json_parse(ua.open(ua_req(url)).read())\n",
    "    if cache is not None:\n",
    "        cache[url] = obj\n",
    "    return obj\n",
    "\n",
    "json_parse('{\"headers\": {\"Host\": \"httpbin.org\"}}').headers"
   ]
  },
  {
   "cell_type": "markdown",
   "id": "88661412",
   "metadata": {},
   "source": [
    "## What Pools are on the Agoric AMM?"
   ]
  },
  {
   "cell_type": "markdown",
   "id": "3d4ab10d",
   "metadata": {},
   "source": [
    "The AMM, like all Inter Protocol contracts, publishes metrics using via an `x/vstorage` module."
   ]
  },
  {
   "cell_type": "code",
   "execution_count": 8,
   "id": "06269cfc",
   "metadata": {},
   "outputs": [
    {
     "data": {
      "text/plain": [
       "['agoricNames',\n",
       " 'amm',\n",
       " 'priceFeed',\n",
       " 'psm',\n",
       " 'reserve',\n",
       " 'stakeFactory',\n",
       " 'vaultFactory',\n",
       " 'wallet']"
      ]
     },
     "execution_count": 8,
     "metadata": {},
     "output_type": "execute_result"
    }
   ],
   "source": [
    "from base64 import b64decode\n",
    "\n",
    "\n",
    "class StorageNode:\n",
    "    \"\"\"Query Agoric x/vstorage module\"\"\"\n",
    "    def __init__(self, ua, path, base=f'https://{RPC_HOST}'):\n",
    "        self._path = path\n",
    "        self._base = base\n",
    "        self.__ua = ua\n",
    "\n",
    "    def __repr__(self):\n",
    "        return self._path\n",
    "\n",
    "    def _url(self, data=False):\n",
    "        kind = 'data' if data else 'children'\n",
    "        return f'{self._base}/abci_query?path=%22/custom/vstorage/{kind}/{self._path}%22&height=0'\n",
    "\n",
    "    @property\n",
    "    def _keys_url(self):\n",
    "        return self._url()\n",
    "            \n",
    "    @property\n",
    "    def _data_url(self):\n",
    "        return self._url(True)\n",
    "\n",
    "    def keys(self):\n",
    "        tendermint_response = get_json(self._keys_url, self.__ua)\n",
    "        # log.debug('tendermint response %s', tendermint_response)\n",
    "        return json_parse(b64decode(tendermint_response.result.response.value)).children\n",
    "\n",
    "    def __call__(self):\n",
    "        tendermint_response = get_json(self._data_url, self.__ua)\n",
    "        # log.debug('tendermint response %s', tendermint_response)\n",
    "        return json_parse(b64decode(tendermint_response.result.response.value)).value\n",
    "\n",
    "    def __getattr__(self, name):\n",
    "        return self.__class__(self.__ua, f'{self._path}.{name}', self._base)\n",
    "\n",
    "IO_TESTING and StorageNode(_theWeb, 'published').keys()"
   ]
  },
  {
   "cell_type": "code",
   "execution_count": 9,
   "id": "423c3b50",
   "metadata": {},
   "outputs": [
    {
     "data": {
      "text/plain": [
       "['governance', 'metrics', 'pool0']"
      ]
     },
     "execution_count": 9,
     "metadata": {},
     "output_type": "execute_result"
    }
   ],
   "source": [
    "IO_TESTING and StorageNode(_theWeb, 'published').amm.keys()"
   ]
  },
  {
   "cell_type": "code",
   "execution_count": 10,
   "id": "a7e126b9",
   "metadata": {},
   "outputs": [
    {
     "data": {
      "text/plain": [
       "'{\"body\":\"{\\\\\"XYK\\\\\":[{\\\\\"@qclass\\\\\":\\\\\"slot\\\\\",\\\\\"iface\\\\\":\\\\\"Alleged: IbcATOM brand\\\\\",\\\\\"index\\\\\":0}]}\",\"slots\":[\"board03446\"]}'"
      ]
     },
     "execution_count": 10,
     "metadata": {},
     "output_type": "execute_result"
    }
   ],
   "source": [
    "IO_TESTING and StorageNode(_theWeb, 'published').amm.metrics()"
   ]
  },
  {
   "cell_type": "markdown",
   "id": "ef908254",
   "metadata": {},
   "source": [
    "The format follows Agoric distributed objects conventions (specifically, `CapData` from `@endo/marshal`);\n",
    "typically, it uses Agoric board IDs for slots:"
   ]
  },
  {
   "cell_type": "code",
   "execution_count": 11,
   "id": "df0af58a",
   "metadata": {},
   "outputs": [
    {
     "data": {
      "text/plain": [
       "{'body': {'XYK': [{'@qclass': 'slot',\n",
       "    'iface': 'Alleged: IbcATOM brand',\n",
       "    'index': 0}]},\n",
       " 'slots': ['board03446']}"
      ]
     },
     "execution_count": 11,
     "metadata": {},
     "output_type": "execute_result"
    }
   ],
   "source": [
    "class ObjectNode(StorageNode):\n",
    "    \"\"\"Query storage nodes using Distribute Objects conventions\"\"\"\n",
    "    \n",
    "    @classmethod\n",
    "    def root(cls, ua):\n",
    "        return cls(path='published', ua=ua)\n",
    "\n",
    "    @classmethod\n",
    "    def cleanup(cls, capData):\n",
    "        return AttrDict({'body': json_parse(capData.body), 'slots': capData.slots})\n",
    "\n",
    "    def __call__(self, marshaller=None):\n",
    "        capData = json_parse(StorageNode.__call__(self))\n",
    "        return marshaller.unserialize(capData) if marshaller else self.cleanup(capData)\n",
    "\n",
    "if IO_TESTING:\n",
    "    _amm = ObjectNode.root(_theWeb).amm\n",
    "\n",
    "IO_TESTING and _amm.metrics()"
   ]
  },
  {
   "cell_type": "code",
   "execution_count": 12,
   "id": "24bcc895",
   "metadata": {},
   "outputs": [
    {
     "data": {
      "text/plain": [
       "{'XYK': [{'boardId': 'board03446', 'iface': 'Alleged: IbcATOM brand'}]}"
      ]
     },
     "execution_count": 12,
     "metadata": {},
     "output_type": "execute_result"
    }
   ],
   "source": [
    "class Marshal:\n",
    "    def __init__(self, convertSlotToVal=lambda slot, iface: slot):\n",
    "        self.convertSlotToVal = convertSlotToVal\n",
    "\n",
    "    def unserialize(self, capData):\n",
    "        s2v = self.convertSlotToVal\n",
    "        slots = capData.slots\n",
    "        def object_hook(obj):\n",
    "            qclass = obj.get('@qclass')\n",
    "            if qclass == 'slot':\n",
    "                # TODO? hilbert hotel\n",
    "                index = obj['index']\n",
    "                return s2v(slots[index], obj.get('iface'))\n",
    "            elif qclass == 'bigint':\n",
    "                return int(obj['digits'])\n",
    "            return AttrDict(obj)\n",
    "        return json.loads(capData.body, object_hook=object_hook)\n",
    "\n",
    "\n",
    "class SlotCache:\n",
    "    def __init__(self, slotKey):\n",
    "        self._cache = {}\n",
    "        self.slotKey = slotKey\n",
    "\n",
    "    def convertSlotToVal(self, slot, iface):\n",
    "        cache = self._cache\n",
    "        if slot in cache:\n",
    "            return cache[slot]\n",
    "        obj = AttrDict({self.slotKey: slot, 'iface': iface})\n",
    "        cache[slot] = obj\n",
    "        return obj\n",
    "\n",
    "if IO_TESTING:\n",
    "    # Preserve identities when deserializing using boardIds\n",
    "    _fromBoard = Marshal(SlotCache('boardId').convertSlotToVal)\n",
    "\n",
    "IO_TESTING and _amm.metrics(_fromBoard)"
   ]
  },
  {
   "cell_type": "markdown",
   "id": "d211169a",
   "metadata": {},
   "source": [
    "The `XYK` member of the AMM metrics is a list of brands.\n",
    "The format carries their _alleged_ name, for debugging,\n",
    "but take care not to rely on it for anything else:"
   ]
  },
  {
   "cell_type": "code",
   "execution_count": 13,
   "id": "7dec4a05",
   "metadata": {},
   "outputs": [
    {
     "data": {
      "text/plain": [
       "['Alleged: IbcATOM brand']"
      ]
     },
     "execution_count": 13,
     "metadata": {},
     "output_type": "execute_result"
    }
   ],
   "source": [
    "IO_TESTING and [brand.iface for brand in _amm.metrics(_fromBoard).XYK]"
   ]
  },
  {
   "cell_type": "markdown",
   "id": "a882af47",
   "metadata": {},
   "source": [
    "### AMM Governance"
   ]
  },
  {
   "cell_type": "code",
   "execution_count": 14,
   "id": "7523cb8d",
   "metadata": {},
   "outputs": [
    {
     "data": {
      "text/plain": [
       "{'current': {'Electorate': {'type': 'invitation',\n",
       "   'value': {'brand': {'boardId': 'board03125',\n",
       "     'iface': 'Alleged: Zoe Invitation brand'},\n",
       "    'value': [{'description': 'questionPoser',\n",
       "      'handle': {'boardId': 'board00126',\n",
       "       'iface': 'Alleged: InvitationHandle'},\n",
       "      'installation': {'boardId': 'board05311',\n",
       "       'iface': 'Alleged: BundleInstallation'},\n",
       "      'instance': {'boardId': 'board00613',\n",
       "       'iface': 'Alleged: InstanceHandle'}}]}},\n",
       "  'MinInitialPoolLiquidity': {'type': 'amount',\n",
       "   'value': {'brand': {'boardId': 'board0074', 'iface': 'Alleged: IST brand'},\n",
       "    'value': 0}},\n",
       "  'PoolFee': {'type': 'nat', 'value': 24},\n",
       "  'ProtocolFee': {'type': 'nat', 'value': 6}}}"
      ]
     },
     "execution_count": 14,
     "metadata": {},
     "output_type": "execute_result"
    }
   ],
   "source": [
    "IO_TESTING and _amm.governance(_fromBoard)"
   ]
  },
  {
   "cell_type": "markdown",
   "id": "d67da80f",
   "metadata": {},
   "source": [
    "### Brands from the `agoricNames` distinguished name hub\n",
    "\n",
    "Agoric provides an authoritative collection of brands via the `agoricNames` name hub:"
   ]
  },
  {
   "cell_type": "code",
   "execution_count": 15,
   "id": "6cacbae9",
   "metadata": {},
   "outputs": [
    {
     "name": "stderr",
     "output_type": "stream",
     "text": [
      "INFO:__main__:agoricNames keys ['brand', 'installation', 'instance', 'issuer', 'oracleBrand', 'uiConfig']\n"
     ]
    },
    {
     "data": {
      "text/plain": [
       "{'BLD': {'boardId': 'board0592', 'iface': 'Alleged: BLD brand'},\n",
       " 'IST': {'boardId': 'board0074', 'iface': 'Alleged: IST brand'},\n",
       " 'Attestation': {'boardId': 'board05432',\n",
       "  'iface': 'Alleged: Attestation brand'},\n",
       " 'AUSD': {'boardId': 'board05815', 'iface': 'Alleged: AUSD brand'},\n",
       " 'IbcATOM': {'boardId': 'board03446', 'iface': 'Alleged: IbcATOM brand'}}"
      ]
     },
     "execution_count": 15,
     "metadata": {},
     "output_type": "execute_result"
    }
   ],
   "source": [
    "def fromEntries(entries):\n",
    "    return AttrDict({key: val for key, val in entries})\n",
    "\n",
    "class AgoricNames:\n",
    "    # ISSUE: this treats contents as static when in theory, they could change\n",
    "    def __init__(self, ua, marshaller):\n",
    "        root = ObjectNode.root(ua)\n",
    "        agoricNames = root.agoricNames\n",
    "        log.info('agoricNames keys %s', agoricNames.keys())\n",
    "        self.brand = fromEntries(agoricNames.brand(marshaller))\n",
    "        self.oracleBrand = fromEntries(agoricNames.oracleBrand(marshaller))\n",
    "        self.issuer = fromEntries(agoricNames.issuer(marshaller))\n",
    "        self.installation = fromEntries(agoricNames.installation(marshaller))\n",
    "        self.instance = fromEntries(agoricNames.instance(marshaller))\n",
    "\n",
    "if IO_TESTING:\n",
    "    _agoricNames = AgoricNames(_theWeb, _fromBoard)\n",
    "\n",
    "IO_TESTING and _agoricNames.brand"
   ]
  },
  {
   "cell_type": "markdown",
   "id": "bd164f79",
   "metadata": {},
   "source": [
    "Now we can test brands for identity:"
   ]
  },
  {
   "cell_type": "code",
   "execution_count": 16,
   "id": "a751aeee",
   "metadata": {},
   "outputs": [
    {
     "data": {
      "text/plain": [
       "True"
      ]
     },
     "execution_count": 16,
     "metadata": {},
     "output_type": "execute_result"
    }
   ],
   "source": [
    "IO_TESTING and _amm.metrics(_fromBoard).XYK[0] is _agoricNames.brand.IbcATOM"
   ]
  },
  {
   "cell_type": "markdown",
   "id": "696221a1",
   "metadata": {},
   "source": [
    "### PyData tools: Pandas DataFrames"
   ]
  },
  {
   "cell_type": "code",
   "execution_count": 17,
   "id": "faa1ce60",
   "metadata": {},
   "outputs": [
    {
     "name": "stderr",
     "output_type": "stream",
     "text": [
      "INFO:__main__:{'pandas': '1.3.2'}\n"
     ]
    }
   ],
   "source": [
    "import pandas as pd\n",
    "\n",
    "log.info(dict(pandas=pd.__version__))"
   ]
  },
  {
   "cell_type": "code",
   "execution_count": 18,
   "id": "8324be24",
   "metadata": {},
   "outputs": [
    {
     "data": {
      "text/html": [
       "<div>\n",
       "<style scoped>\n",
       "    .dataframe tbody tr th:only-of-type {\n",
       "        vertical-align: middle;\n",
       "    }\n",
       "\n",
       "    .dataframe tbody tr th {\n",
       "        vertical-align: top;\n",
       "    }\n",
       "\n",
       "    .dataframe thead th {\n",
       "        text-align: right;\n",
       "    }\n",
       "</style>\n",
       "<table border=\"1\" class=\"dataframe\">\n",
       "  <thead>\n",
       "    <tr style=\"text-align: right;\">\n",
       "      <th></th>\n",
       "      <th>boardId</th>\n",
       "      <th>iface</th>\n",
       "    </tr>\n",
       "    <tr>\n",
       "      <th>keyword</th>\n",
       "      <th></th>\n",
       "      <th></th>\n",
       "    </tr>\n",
       "  </thead>\n",
       "  <tbody>\n",
       "    <tr>\n",
       "      <th>BLD</th>\n",
       "      <td>board0592</td>\n",
       "      <td>Alleged: BLD brand</td>\n",
       "    </tr>\n",
       "    <tr>\n",
       "      <th>IST</th>\n",
       "      <td>board0074</td>\n",
       "      <td>Alleged: IST brand</td>\n",
       "    </tr>\n",
       "    <tr>\n",
       "      <th>Attestation</th>\n",
       "      <td>board05432</td>\n",
       "      <td>Alleged: Attestation brand</td>\n",
       "    </tr>\n",
       "    <tr>\n",
       "      <th>AUSD</th>\n",
       "      <td>board05815</td>\n",
       "      <td>Alleged: AUSD brand</td>\n",
       "    </tr>\n",
       "    <tr>\n",
       "      <th>IbcATOM</th>\n",
       "      <td>board03446</td>\n",
       "      <td>Alleged: IbcATOM brand</td>\n",
       "    </tr>\n",
       "  </tbody>\n",
       "</table>\n",
       "</div>"
      ],
      "text/plain": [
       "                boardId                       iface\n",
       "keyword                                            \n",
       "BLD           board0592          Alleged: BLD brand\n",
       "IST           board0074          Alleged: IST brand\n",
       "Attestation  board05432  Alleged: Attestation brand\n",
       "AUSD         board05815         Alleged: AUSD brand\n",
       "IbcATOM      board03446      Alleged: IbcATOM brand"
      ]
     },
     "execution_count": 18,
     "metadata": {},
     "output_type": "execute_result"
    }
   ],
   "source": [
    "IO_TESTING and pd.DataFrame.from_dict(_agoricNames.brand, orient='index').rename_axis('keyword')"
   ]
  },
  {
   "cell_type": "markdown",
   "id": "4f9d2da7",
   "metadata": {},
   "source": [
    "## Status of 1st AMM pool (`pool0`)"
   ]
  },
  {
   "cell_type": "code",
   "execution_count": 19,
   "id": "8e0e0f92",
   "metadata": {},
   "outputs": [
    {
     "data": {
      "text/plain": [
       "{'centralAmount': {'brand': {'boardId': 'board0074',\n",
       "   'iface': 'Alleged: IST brand'},\n",
       "  'value': 200053028931},\n",
       " 'liquidityTokens': {'brand': {'boardId': 'board06445',\n",
       "   'iface': 'Alleged: IbcATOMLiquidity brand'},\n",
       "  'value': 200007998503},\n",
       " 'secondaryAmount': {'brand': {'boardId': 'board03446',\n",
       "   'iface': 'Alleged: IbcATOM brand'},\n",
       "  'value': 99981552}}"
      ]
     },
     "execution_count": 19,
     "metadata": {},
     "output_type": "execute_result"
    }
   ],
   "source": [
    "IO_TESTING and _amm.pool0.metrics(_fromBoard)"
   ]
  },
  {
   "cell_type": "code",
   "execution_count": 20,
   "id": "1d2720fb",
   "metadata": {},
   "outputs": [
    {
     "data": {
      "text/plain": [
       "amount    200053.028931\n",
       "brand               IST\n",
       "dtype: object"
      ]
     },
     "execution_count": 20,
     "metadata": {},
     "output_type": "execute_result"
    }
   ],
   "source": [
    "from decimal import Decimal\n",
    "\n",
    "def amt(nameHub):\n",
    "    def aux(obj, unit=1000000):\n",
    "        found = [n for n, v in nameHub.items() if v is obj.brand]\n",
    "        if found:\n",
    "            [brand] = found\n",
    "        else:\n",
    "            log.warning('unknown brand %s', obj.brand)\n",
    "            brand = obj.brand.iface\n",
    "        amount = Decimal(obj.value) / unit\n",
    "        return pd.Series(dict(amount=amount, brand=brand))\n",
    "    return aux\n",
    "\n",
    "if IO_TESTING:\n",
    "    _amt = amt(_agoricNames.brand)\n",
    "\n",
    "IO_TESTING and _amt(_amm.pool0.metrics(_fromBoard).centralAmount)"
   ]
  },
  {
   "cell_type": "code",
   "execution_count": 21,
   "id": "560f3720",
   "metadata": {},
   "outputs": [
    {
     "name": "stderr",
     "output_type": "stream",
     "text": [
      "WARNING:__main__:unknown brand {'boardId': 'board06445', 'iface': 'Alleged: IbcATOMLiquidity brand'}\n"
     ]
    },
    {
     "data": {
      "text/html": [
       "<div>\n",
       "<style scoped>\n",
       "    .dataframe tbody tr th:only-of-type {\n",
       "        vertical-align: middle;\n",
       "    }\n",
       "\n",
       "    .dataframe tbody tr th {\n",
       "        vertical-align: top;\n",
       "    }\n",
       "\n",
       "    .dataframe thead th {\n",
       "        text-align: right;\n",
       "    }\n",
       "</style>\n",
       "<table border=\"1\" class=\"dataframe\">\n",
       "  <thead>\n",
       "    <tr style=\"text-align: right;\">\n",
       "      <th></th>\n",
       "      <th>amount</th>\n",
       "      <th>brand</th>\n",
       "    </tr>\n",
       "  </thead>\n",
       "  <tbody>\n",
       "    <tr>\n",
       "      <th>centralAmount</th>\n",
       "      <td>200053.028931</td>\n",
       "      <td>IST</td>\n",
       "    </tr>\n",
       "    <tr>\n",
       "      <th>liquidityTokens</th>\n",
       "      <td>200007.998503</td>\n",
       "      <td>Alleged: IbcATOMLiquidity brand</td>\n",
       "    </tr>\n",
       "    <tr>\n",
       "      <th>secondaryAmount</th>\n",
       "      <td>99.981552</td>\n",
       "      <td>IbcATOM</td>\n",
       "    </tr>\n",
       "  </tbody>\n",
       "</table>\n",
       "</div>"
      ],
      "text/plain": [
       "                        amount                            brand\n",
       "centralAmount    200053.028931                              IST\n",
       "liquidityTokens  200007.998503  Alleged: IbcATOMLiquidity brand\n",
       "secondaryAmount      99.981552                          IbcATOM"
      ]
     },
     "execution_count": 21,
     "metadata": {},
     "output_type": "execute_result"
    }
   ],
   "source": [
    "IO_TESTING and pd.DataFrame([pd.Series(_amt(a), name=col)\n",
    "                             for col, a in _amm.pool0.metrics(_fromBoard).items()])"
   ]
  },
  {
   "cell_type": "markdown",
   "id": "3d2a26f7",
   "metadata": {},
   "source": [
    "## Price Feed: ATOM in USD"
   ]
  },
  {
   "cell_type": "code",
   "execution_count": 29,
   "id": "c11e86fe",
   "metadata": {},
   "outputs": [
    {
     "data": {
      "text/plain": [
       "['ATOM_USD_price_feed']"
      ]
     },
     "execution_count": 29,
     "metadata": {},
     "output_type": "execute_result"
    }
   ],
   "source": [
    "if IO_TESTING:\n",
    "    _priceFeed = ObjectNode.root(_theWeb).priceFeed\n",
    "\n",
    "IO_TESTING and _priceFeed.keys()"
   ]
  },
  {
   "cell_type": "code",
   "execution_count": 33,
   "id": "67397e3d",
   "metadata": {},
   "outputs": [
    {
     "data": {
      "text/plain": [
       "{'quoteAmount': {'brand': {'boardId': None,\n",
       "   'iface': 'Alleged: InvitationHandle'},\n",
       "  'value': [{'amountIn': {'brand': {'boardId': 'board02810',\n",
       "      'iface': 'Alleged: ATOM brand'},\n",
       "     'value': 1},\n",
       "    'amountOut': {'brand': {'boardId': 'board0639',\n",
       "      'iface': 'Alleged: USD brand'},\n",
       "     'value': 19},\n",
       "    'timer': {'boardId': None, 'iface': 'Alleged: InvitationHandle'},\n",
       "    'timestamp': 1660853344}]},\n",
       " 'quotePayment': {'boardId': None, 'iface': 'Alleged: InvitationHandle'}}"
      ]
     },
     "execution_count": 33,
     "metadata": {},
     "output_type": "execute_result"
    }
   ],
   "source": [
    "IO_TESTING and _priceFeed.ATOM_USD_price_feed(_fromBoard)"
   ]
  },
  {
   "cell_type": "markdown",
   "id": "0a884e6a",
   "metadata": {},
   "source": [
    "## Vaults (0 vaults so far)"
   ]
  },
  {
   "cell_type": "code",
   "execution_count": 22,
   "id": "d66ac265",
   "metadata": {},
   "outputs": [
    {
     "data": {
      "text/plain": [
       "['governance', 'manager0', 'metrics', 'timingParams']"
      ]
     },
     "execution_count": 22,
     "metadata": {},
     "output_type": "execute_result"
    }
   ],
   "source": [
    "if IO_TESTING:\n",
    "    _vaultFactory = ObjectNode.root(_theWeb).vaultFactory\n",
    "\n",
    "IO_TESTING and _vaultFactory.keys()"
   ]
  },
  {
   "cell_type": "code",
   "execution_count": 23,
   "id": "e54757ce",
   "metadata": {},
   "outputs": [
    {
     "data": {
      "text/plain": [
       "['governance', 'metrics']"
      ]
     },
     "execution_count": 23,
     "metadata": {},
     "output_type": "execute_result"
    }
   ],
   "source": [
    "IO_TESTING and _vaultFactory.manager0.keys()"
   ]
  },
  {
   "cell_type": "code",
   "execution_count": 25,
   "id": "495420fe",
   "metadata": {},
   "outputs": [
    {
     "data": {
      "text/plain": [
       "{'numActiveVaults': 0,\n",
       " 'numLiquidatingVaults': 0,\n",
       " 'numLiquidationsCompleted': 0,\n",
       " 'retainedCollateral': {'brand': {'boardId': 'board03446',\n",
       "   'iface': 'Alleged: IbcATOM brand'},\n",
       "  'value': 0},\n",
       " 'totalCollateral': {'brand': {'boardId': 'board03446',\n",
       "   'iface': 'Alleged: IbcATOM brand'},\n",
       "  'value': 0},\n",
       " 'totalCollateralSold': {'brand': {'boardId': 'board03446',\n",
       "   'iface': 'Alleged: IbcATOM brand'},\n",
       "  'value': 0},\n",
       " 'totalDebt': {'brand': {'boardId': 'board0074',\n",
       "   'iface': 'Alleged: IST brand'},\n",
       "  'value': 0},\n",
       " 'totalOverageReceived': {'brand': {'boardId': 'board0074',\n",
       "   'iface': 'Alleged: IST brand'},\n",
       "  'value': 0},\n",
       " 'totalProceedsReceived': {'brand': {'boardId': 'board0074',\n",
       "   'iface': 'Alleged: IST brand'},\n",
       "  'value': 0},\n",
       " 'totalShortfallReceived': {'brand': {'boardId': 'board0074',\n",
       "   'iface': 'Alleged: IST brand'},\n",
       "  'value': 0}}"
      ]
     },
     "execution_count": 25,
     "metadata": {},
     "output_type": "execute_result"
    }
   ],
   "source": [
    "IO_TESTING and _vaultFactory.manager0.metrics(_fromBoard)"
   ]
  },
  {
   "cell_type": "code",
   "execution_count": 34,
   "id": "6246cea0",
   "metadata": {},
   "outputs": [
    {
     "data": {
      "text/plain": [
       "{'Electorate': {'type': 'invitation',\n",
       "  'value': {'brand': {'boardId': 'board03125',\n",
       "    'iface': 'Alleged: Zoe Invitation brand'},\n",
       "   'value': [{'description': 'questionPoser',\n",
       "     'handle': {'boardId': None, 'iface': 'Alleged: InvitationHandle'},\n",
       "     'installation': {'boardId': 'board05311',\n",
       "      'iface': 'Alleged: BundleInstallation'},\n",
       "     'instance': {'boardId': 'board00613',\n",
       "      'iface': 'Alleged: InstanceHandle'}}]}},\n",
       " 'LiquidationInstall': {'type': 'installation',\n",
       "  'value': {'boardId': 'board01422', 'iface': 'Alleged: BundleInstallation'}},\n",
       " 'LiquidationTerms': {'type': 'unknown',\n",
       "  'value': {'AMMMaxSlippage': {'denominator': {'brand': {'boardId': 'board0074',\n",
       "      'iface': 'Alleged: IST brand'},\n",
       "     'value': 100},\n",
       "    'numerator': {'brand': {'boardId': 'board0074',\n",
       "      'iface': 'Alleged: IST brand'},\n",
       "     'value': 30}},\n",
       "   'MaxImpactBP': 50,\n",
       "   'OracleTolerance': {'denominator': {'brand': {'boardId': 'board0074',\n",
       "      'iface': 'Alleged: IST brand'},\n",
       "     'value': 100},\n",
       "    'numerator': {'brand': {'boardId': 'board0074',\n",
       "      'iface': 'Alleged: IST brand'},\n",
       "     'value': 30}}}},\n",
       " 'MinInitialDebt': {'type': 'amount',\n",
       "  'value': {'brand': {'boardId': 'board0074', 'iface': 'Alleged: IST brand'},\n",
       "   'value': 5000000}},\n",
       " 'ShortfallInvitation': {'type': 'invitation',\n",
       "  'value': {'brand': {'boardId': 'board03125',\n",
       "    'iface': 'Alleged: Zoe Invitation brand'},\n",
       "   'value': [{'description': 'getFacetForReportingShortfalls',\n",
       "     'handle': {'boardId': None, 'iface': 'Alleged: InvitationHandle'},\n",
       "     'installation': {'boardId': 'board03523',\n",
       "      'iface': 'Alleged: BundleInstallation'},\n",
       "     'instance': {'boardId': 'board05736',\n",
       "      'iface': 'Alleged: InstanceHandle'}}]}}}"
      ]
     },
     "execution_count": 34,
     "metadata": {},
     "output_type": "execute_result"
    }
   ],
   "source": [
    "IO_TESTING and _vaultFactory.governance(_fromBoard).current"
   ]
  },
  {
   "cell_type": "markdown",
   "id": "51884ccd",
   "metadata": {},
   "source": [
    "## Exploring `agoricNames`"
   ]
  },
  {
   "cell_type": "code",
   "execution_count": 28,
   "id": "32270fc8",
   "metadata": {},
   "outputs": [
    {
     "data": {
      "text/plain": [
       "dict_keys(['economicCommittee', 'amm', 'ammGovernor', 'VaultFactory', 'feeDistributor', 'Treasury', 'VaultFactoryGovernor', 'stakeFactory', 'Pegasus', 'reserve', 'reserveGovernor', 'psm', 'psmGovernor', 'interchainPool', 'ATOM-USD price feed'])"
      ]
     },
     "execution_count": 28,
     "metadata": {},
     "output_type": "execute_result"
    }
   ],
   "source": [
    "IO_TESTING and _agoricNames.instance.keys()"
   ]
  },
  {
   "cell_type": "code",
   "execution_count": 35,
   "id": "1a890655",
   "metadata": {},
   "outputs": [
    {
     "data": {
      "text/plain": [
       "dict_keys(['centralSupply', 'mintHolder', 'walletFactory', 'contractGovernor', 'committee', 'binaryVoteCounter', 'amm', 'VaultFactory', 'feeDistributor', 'liquidate', 'stakeFactory', 'Pegasus', 'reserve', 'psm', 'interchainPool', 'scaledPriceAuthority', 'priceAggregator', 'econCommitteeCharter'])"
      ]
     },
     "execution_count": 35,
     "metadata": {},
     "output_type": "execute_result"
    }
   ],
   "source": [
    "_agoricNames.installation.keys()"
   ]
  }
 ],
 "metadata": {
  "environment": {
   "name": "common-cpu.m78",
   "type": "gcloud",
   "uri": "gcr.io/deeplearning-platform-release/base-cpu:m78"
  },
  "jupytext": {
   "formats": "ipynb,py:hydrogen"
  },
  "kernelspec": {
   "display_name": "Python 3",
   "language": "python",
   "name": "python3"
  },
  "language_info": {
   "codemirror_mode": {
    "name": "ipython",
    "version": 3
   },
   "file_extension": ".py",
   "mimetype": "text/x-python",
   "name": "python",
   "nbconvert_exporter": "python",
   "pygments_lexer": "ipython3",
   "version": "3.7.10"
  }
 },
 "nbformat": 4,
 "nbformat_minor": 5
}
